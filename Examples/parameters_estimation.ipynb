{
 "cells": [
  {
   "cell_type": "markdown",
   "id": "67a13d26-d56c-48a1-9067-e56cf0aa067f",
   "metadata": {},
   "source": [
    "# Estimation of the NMZI model's parameters"
   ]
  },
  {
   "cell_type": "code",
   "execution_count": 1,
   "id": "2e5456dd-092e-41ab-8a20-3e15e22d695d",
   "metadata": {},
   "outputs": [],
   "source": [
    "import matplotlib.pyplot as plt\n",
    "\n",
     "import sys\n",
     "sys.path.append('/adeleravagnani/non-markovian-zero-intelligence-lob-simulator/Modules/')\n",
    "import LOB_data as LOB\n",
    "import NMZI_parameters as NMZI_p"
   ]
  },
  {
   "cell_type": "markdown",
   "id": "37b62dd4-1877-4e2a-b37d-2a1cbbea4f16",
   "metadata": {},
   "source": [
    "Load files"
   ]
  },
  {
   "cell_type": "code",
   "execution_count": 2,
   "id": "e776291f-869b-42ce-9341-c9160177b1d5",
   "metadata": {},
   "outputs": [
    {
     "name": "stdout",
     "output_type": "stream",
     "text": [
      "\n",
      "Loading message and order book file ...\n",
      "Check shapes of the new files: True\n",
      "Data set lenght: 271321\n",
      "\n",
      "Message file first lines\n",
      "           Time  Type       ID  Size   Price  Direction\n",
      "0  34200.005047     4  8498383    40  214.46          1\n",
      "1  34200.008011     3  8498383   160  214.46          1\n",
      "2  34200.008637     3  8519079   200  214.97         -1\n",
      "3  34200.043668     1  8541883    20  214.36          1\n",
      "4  34200.078412     1  8555441  5000  214.50          1\n",
      "\n",
      "Order book file first lines\n",
      "   AskPrice_1  AskSize_1  BidPrice_1  ...  AskSize_10  BidPrice_10  BidSize_10\n",
      "0      214.97        200      214.46  ...           7       213.93          50\n",
      "1      214.97        200      214.40  ...           7       213.78          50\n",
      "2      215.48         25      214.40  ...           1       213.78          50\n",
      "3      215.48         25      214.40  ...           1       213.93          50\n",
      "4      215.48         25      214.50  ...           1       214.00         110\n",
      "\n",
      "[5 rows x 40 columns]\n",
      "\n",
      "Cleaning message and order book file ...\n",
      "\n",
      "Cleaning from trading halts ...\n",
      "Check shapes of the new files: True\n",
      "Data set lenght: 271321\n",
      "\n",
      "Cleaning from auctions ...\n",
      "Check shapes of the new files: True\n",
      "Data set lenght: 271320\n",
      "\n",
      "Cleaning from crossed price observations ...\n",
      "Check shapes of the new files: True\n",
      "Data set lenght: 271320\n",
      "\n",
      "Handling splitted LO executions ...\n",
      "Out of 271320 events, 264313 are associated to unique times\n"
     ]
    },
    {
     "name": "stderr",
     "output_type": "stream",
     "text": [
      "100%|██████████| 264313/264313 [00:09<00:00, 27178.97it/s]\n"
     ]
    },
    {
     "name": "stdout",
     "output_type": "stream",
     "text": [
      "Check shapes of the new files: True\n",
      "New shape is 269891\n",
      "\n",
      "Handling hidden orders ...\n",
      "Dropping hidden orders ...\n",
      "Check shapes of the new files: True\n",
      "New shape is 266003\n",
      "\n",
      "Loading and cleaning of the dataset completed!\n",
      "First time available corresponds to  9.50 hours after midnight\n",
      "Last time available corresponds to 16.00 hours after midnight\n",
      "Now, first time available corresponds to 10.50 hours after midnight\n",
      "Now, last time available corresponds to 15.00 hours after midnight\n",
      "Check shapes of the new files: True\n",
      "New shape is 170416\n"
     ]
    }
   ],
   "source": [
    "path_folder = '/.../TSLA_2015-01-01_2015-01-31_10/'\n",
    "path_ob_file = 'TSLA_2015-01-05_34200000_57600000_orderbook_10.csv'\n",
    "path_message_file = 'TSLA_2015-01-05_34200000_57600000_message_10.csv'\n",
    "\n",
    "tick_size = 0.01\n",
    "\n",
    "data = LOB.LOB_data(path_folder, path_message_file, path_ob_file, tick_size)\n",
    "data.load_and_clean_LOB_data()\n",
    "data.cut_before_and_after_LOB_data(60, 60)"
   ]
  },
  {
   "cell_type": "code",
   "execution_count": 3,
   "id": "36350e90-0ca2-44a9-b390-3920d0d5922f",
   "metadata": {},
   "outputs": [],
   "source": [
    "message_file = data.message_file\n",
    "ob_file = data.ob_file\n",
    "n_levels = data.n_levels"
   ]
  },
  {
   "cell_type": "code",
   "execution_count": 4,
   "id": "e93ca144-d8e6-4cce-94e4-ccbf66a4f34b",
   "metadata": {},
   "outputs": [
    {
     "name": "stdout",
     "output_type": "stream",
     "text": [
      "Parameters estimation\n",
      "The mean size of LOs (in number of shares) is 101.1057.\n",
      "The total LO arrival rate per event per unit price is 0.0131.\n",
      "The total MO arrival rate per event is 0.0441.\n",
      "The total cancellation rate per unit volume and per event is 0.1174.\n",
      "The mean inter-arrival time between orders is 0.0951 seconds.\n"
     ]
    }
   ],
   "source": [
    "[v_0, lam, mu, delta, mean_inter_arrival_times] = NMZI_p.estimate_parameters_SantaFe(data, verbose = True)"
   ]
  },
  {
   "cell_type": "code",
   "execution_count": 5,
   "id": "1650a854-22fd-4f00-b6f8-76d2a5b22824",
   "metadata": {},
   "outputs": [
    {
     "name": "stdout",
     "output_type": "stream",
     "text": [
      "Mean spread is 16.71 tick size\n"
     ]
    }
   ],
   "source": [
    "average_spread = ((ob_file['AskPrice_1'] - ob_file['BidPrice_1']).mean())*100\n",
    "print('Mean spread is %.2f tick size'%(average_spread))"
   ]
  },
  {
   "cell_type": "code",
   "execution_count": 6,
   "id": "1c156bc1-c281-42d9-9a4e-d5f587aa436f",
   "metadata": {
    "tags": []
   },
   "outputs": [
    {
     "data": {
      "image/png": "[encoded data removed]",
      "text/plain": [
       "<Figure size 432x288 with 1 Axes>"
      ]
     },
     "metadata": {},
     "output_type": "display_data"
    }
   ],
   "source": [
    "mid_price_evolution_emp = ((ob_file['AskPrice_1'] + ob_file['BidPrice_1'])/2)\n",
    "plt.plot(mid_price_evolution_emp.to_numpy())\n",
    "plt.xlabel('event time')\n",
    "plt.ylabel('mid-price')\n",
    "plt.title('Mid-price evolution')\n",
    "plt.show()"
   ]
  },
  {
   "cell_type": "code",
   "execution_count": 7,
   "id": "e01cf7c6-4c15-4531-9a8b-c80f3ce1dd27",
   "metadata": {
    "tags": []
   },
   "outputs": [
    {
     "name": "stdout",
     "output_type": "stream",
     "text": [
      "Volatility is: 1.44\n"
     ]
    }
   ],
   "source": [
    "print('Volatility is: %.2f'%mid_price_evolution_emp.std())"
   ]
  },
  {
   "cell_type": "code",
   "execution_count": 8,
   "id": "1b65f753-444c-4a73-afb4-7a992b211f27",
   "metadata": {},
   "outputs": [
    {
     "name": "stdout",
     "output_type": "stream",
     "text": [
      "Events proportions:\n",
      " Type\n",
      "1    0.499014\n",
      "3    0.475302\n",
      "4    0.025567\n",
      "2    0.000117\n",
      "Name: proportion, dtype: float64\n"
     ]
    }
   ],
   "source": [
    "print('Events proportions:\\n', message_file['Type'].value_counts(normalize = True))"
   ]
  },
  {
   "cell_type": "code",
   "execution_count": null,
   "id": "3707cd9f-471a-4f52-808b-b031659a94b6",
   "metadata": {},
   "outputs": [],
   "source": []
  }
 ],
 "metadata": {
  "kernelspec": {
   "display_name": "Python 3 (Spyder)",
   "language": "python3",
   "name": "python3"
  },
  "language_info": {
   "codemirror_mode": {
    "name": "ipython",
    "version": 3
   },
   "file_extension": ".py",
   "mimetype": "text/x-python",
   "name": "python",
   "nbconvert_exporter": "python",
   "pygments_lexer": "ipython3",
   "version": "3.11.5"
  }
 },
 "nbformat": 4,
 "nbformat_minor": 5
}
